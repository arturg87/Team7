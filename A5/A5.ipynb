{
 "metadata": {
  "language_info": {
   "codemirror_mode": {
    "name": "ipython",
    "version": 3
   },
   "file_extension": ".py",
   "mimetype": "text/x-python",
   "name": "python",
   "nbconvert_exporter": "python",
   "pygments_lexer": "ipython3",
   "version": "3.7.0-final"
  },
  "orig_nbformat": 2,
  "kernelspec": {
   "name": "python3",
   "display_name": "Python 3.7.0 64-bit ('3.7.0': pyenv)",
   "metadata": {
    "interpreter": {
     "hash": "9da096c4206982411fa15a9fe1edb1f4ec6034c239429ad4e7ee88d22bab6cbe"
    }
   }
  }
 },
 "nbformat": 4,
 "nbformat_minor": 2,
 "cells": [
  {
   "cell_type": "code",
   "execution_count": 45,
   "metadata": {},
   "outputs": [],
   "source": [
    "import pandas as pd\n",
    "import numpy as np\n",
    "\n",
    "df = pd.read_csv(\"weather.csv\")\n",
    "\n",
    "df = df.replace(\"No data.\", np.nan)\n",
    "\n",
    "cols = [i for i in df.columns if i not in ['Date']]\n",
    "\n",
    "for col in cols:\n",
    "    df[col] = df[col].astype(float)\n",
    "\n",
    "df.Date = pd.to_datetime(df.Date)"
   ]
  },
  {
   "cell_type": "code",
   "execution_count": 46,
   "metadata": {},
   "outputs": [],
   "source": [
    "df21 = df[df.Date.dt.year == 2021]\n",
    "df20 = df[df.Date.dt.year == 2020]\n",
    "df19 = df[df.Date.dt.year == 2019]\n",
    "df18 = df[df.Date.dt.year == 2018]\n",
    "df17 = df[df.Date.dt.year == 2017]"
   ]
  },
  {
   "cell_type": "code",
   "execution_count": 56,
   "metadata": {},
   "outputs": [
    {
     "output_type": "execute_result",
     "data": {
      "text/plain": [
       "      Minimum Temperature  Mean Temperature  Maximum Temperature\n",
       "Date                                                            \n",
       "1               23.903226         32.283871            43.070968\n",
       "2               24.158621         34.337931            49.093103\n",
       "3               38.070968         48.012903            61.750000\n",
       "4               41.610000         53.433333            69.593333\n",
       "5               52.374194         61.580645            73.390323\n",
       "6               67.246667         77.650000            89.580000\n",
       "7               69.612903         78.525806            89.335484\n",
       "8               64.845161         75.616129            88.383871\n",
       "9               54.820000         66.030000            80.666667\n",
       "10              42.406452         52.893548            66.709677\n",
       "11              37.416667         48.460000            64.150000\n",
       "12              24.196774         35.212903            49.438710"
      ],
      "text/html": "<div>\n<style scoped>\n    .dataframe tbody tr th:only-of-type {\n        vertical-align: middle;\n    }\n\n    .dataframe tbody tr th {\n        vertical-align: top;\n    }\n\n    .dataframe thead th {\n        text-align: right;\n    }\n</style>\n<table border=\"1\" class=\"dataframe\">\n  <thead>\n    <tr style=\"text-align: right;\">\n      <th></th>\n      <th>Minimum Temperature</th>\n      <th>Mean Temperature</th>\n      <th>Maximum Temperature</th>\n    </tr>\n    <tr>\n      <th>Date</th>\n      <th></th>\n      <th></th>\n      <th></th>\n    </tr>\n  </thead>\n  <tbody>\n    <tr>\n      <th>1</th>\n      <td>23.903226</td>\n      <td>32.283871</td>\n      <td>43.070968</td>\n    </tr>\n    <tr>\n      <th>2</th>\n      <td>24.158621</td>\n      <td>34.337931</td>\n      <td>49.093103</td>\n    </tr>\n    <tr>\n      <th>3</th>\n      <td>38.070968</td>\n      <td>48.012903</td>\n      <td>61.750000</td>\n    </tr>\n    <tr>\n      <th>4</th>\n      <td>41.610000</td>\n      <td>53.433333</td>\n      <td>69.593333</td>\n    </tr>\n    <tr>\n      <th>5</th>\n      <td>52.374194</td>\n      <td>61.580645</td>\n      <td>73.390323</td>\n    </tr>\n    <tr>\n      <th>6</th>\n      <td>67.246667</td>\n      <td>77.650000</td>\n      <td>89.580000</td>\n    </tr>\n    <tr>\n      <th>7</th>\n      <td>69.612903</td>\n      <td>78.525806</td>\n      <td>89.335484</td>\n    </tr>\n    <tr>\n      <th>8</th>\n      <td>64.845161</td>\n      <td>75.616129</td>\n      <td>88.383871</td>\n    </tr>\n    <tr>\n      <th>9</th>\n      <td>54.820000</td>\n      <td>66.030000</td>\n      <td>80.666667</td>\n    </tr>\n    <tr>\n      <th>10</th>\n      <td>42.406452</td>\n      <td>52.893548</td>\n      <td>66.709677</td>\n    </tr>\n    <tr>\n      <th>11</th>\n      <td>37.416667</td>\n      <td>48.460000</td>\n      <td>64.150000</td>\n    </tr>\n    <tr>\n      <th>12</th>\n      <td>24.196774</td>\n      <td>35.212903</td>\n      <td>49.438710</td>\n    </tr>\n  </tbody>\n</table>\n</div>"
     },
     "metadata": {},
     "execution_count": 56
    }
   ],
   "source": [
    "df20.groupby(by=[df20.Date.dt.month])['Minimum Temperature', 'Mean Temperature', 'Maximum Temperature'].mean()"
   ]
  },
  {
   "cell_type": "code",
   "execution_count": 58,
   "metadata": {},
   "outputs": [
    {
     "output_type": "execute_result",
     "data": {
      "text/plain": [
       "       Minimum Temperature  ...  Maximum Wind Gust\n",
       "count            65.000000  ...                0.0\n",
       "mean             21.016923  ...                NaN\n",
       "std              13.046881  ...                NaN\n",
       "min             -24.200000  ...                NaN\n",
       "25%              17.100000  ...                NaN\n",
       "50%              22.500000  ...                NaN\n",
       "75%              30.900000  ...                NaN\n",
       "max              44.600000  ...                NaN\n",
       "\n",
       "[8 rows x 11 columns]"
      ],
      "text/html": "<div>\n<style scoped>\n    .dataframe tbody tr th:only-of-type {\n        vertical-align: middle;\n    }\n\n    .dataframe tbody tr th {\n        vertical-align: top;\n    }\n\n    .dataframe thead th {\n        text-align: right;\n    }\n</style>\n<table border=\"1\" class=\"dataframe\">\n  <thead>\n    <tr style=\"text-align: right;\">\n      <th></th>\n      <th>Minimum Temperature</th>\n      <th>Mean Temperature</th>\n      <th>Maximum Temperature</th>\n      <th>Mean Sea Level Pressure</th>\n      <th>Mean Dew Point</th>\n      <th>Total Precipitation</th>\n      <th>Visibility</th>\n      <th>Snow Depth</th>\n      <th>Mean Wind Speed</th>\n      <th>Maximum Sustained Wind Speed</th>\n      <th>Maximum Wind Gust</th>\n    </tr>\n  </thead>\n  <tbody>\n    <tr>\n      <th>count</th>\n      <td>65.000000</td>\n      <td>65.000000</td>\n      <td>65.000000</td>\n      <td>0.0</td>\n      <td>0.0</td>\n      <td>65.000000</td>\n      <td>0.0</td>\n      <td>0.0</td>\n      <td>0.0</td>\n      <td>0.0</td>\n      <td>0.0</td>\n    </tr>\n    <tr>\n      <th>mean</th>\n      <td>21.016923</td>\n      <td>30.647692</td>\n      <td>44.172308</td>\n      <td>NaN</td>\n      <td>NaN</td>\n      <td>0.016615</td>\n      <td>NaN</td>\n      <td>NaN</td>\n      <td>NaN</td>\n      <td>NaN</td>\n      <td>NaN</td>\n    </tr>\n    <tr>\n      <th>std</th>\n      <td>13.046881</td>\n      <td>14.515327</td>\n      <td>18.186203</td>\n      <td>NaN</td>\n      <td>NaN</td>\n      <td>0.076695</td>\n      <td>NaN</td>\n      <td>NaN</td>\n      <td>NaN</td>\n      <td>NaN</td>\n      <td>NaN</td>\n    </tr>\n    <tr>\n      <th>min</th>\n      <td>-24.200000</td>\n      <td>-8.000000</td>\n      <td>-0.800000</td>\n      <td>NaN</td>\n      <td>NaN</td>\n      <td>0.000000</td>\n      <td>NaN</td>\n      <td>NaN</td>\n      <td>NaN</td>\n      <td>NaN</td>\n      <td>NaN</td>\n    </tr>\n    <tr>\n      <th>25%</th>\n      <td>17.100000</td>\n      <td>25.200000</td>\n      <td>36.000000</td>\n      <td>NaN</td>\n      <td>NaN</td>\n      <td>0.000000</td>\n      <td>NaN</td>\n      <td>NaN</td>\n      <td>NaN</td>\n      <td>NaN</td>\n      <td>NaN</td>\n    </tr>\n    <tr>\n      <th>50%</th>\n      <td>22.500000</td>\n      <td>33.600000</td>\n      <td>48.000000</td>\n      <td>NaN</td>\n      <td>NaN</td>\n      <td>0.000000</td>\n      <td>NaN</td>\n      <td>NaN</td>\n      <td>NaN</td>\n      <td>NaN</td>\n      <td>NaN</td>\n    </tr>\n    <tr>\n      <th>75%</th>\n      <td>30.900000</td>\n      <td>40.600000</td>\n      <td>55.900000</td>\n      <td>NaN</td>\n      <td>NaN</td>\n      <td>0.000000</td>\n      <td>NaN</td>\n      <td>NaN</td>\n      <td>NaN</td>\n      <td>NaN</td>\n      <td>NaN</td>\n    </tr>\n    <tr>\n      <th>max</th>\n      <td>44.600000</td>\n      <td>52.700000</td>\n      <td>73.600000</td>\n      <td>NaN</td>\n      <td>NaN</td>\n      <td>0.600000</td>\n      <td>NaN</td>\n      <td>NaN</td>\n      <td>NaN</td>\n      <td>NaN</td>\n      <td>NaN</td>\n    </tr>\n  </tbody>\n</table>\n</div>"
     },
     "metadata": {},
     "execution_count": 58
    }
   ],
   "source": [
    "df21.describe()"
   ]
  },
  {
   "cell_type": "code",
   "execution_count": 65,
   "metadata": {},
   "outputs": [
    {
     "output_type": "execute_result",
     "data": {
      "text/plain": [
       "         Date  ...  Maximum Wind Gust\n",
       "18 2021-02-16  ...                NaN\n",
       "\n",
       "[1 rows x 12 columns]"
      ],
      "text/html": "<div>\n<style scoped>\n    .dataframe tbody tr th:only-of-type {\n        vertical-align: middle;\n    }\n\n    .dataframe tbody tr th {\n        vertical-align: top;\n    }\n\n    .dataframe thead th {\n        text-align: right;\n    }\n</style>\n<table border=\"1\" class=\"dataframe\">\n  <thead>\n    <tr style=\"text-align: right;\">\n      <th></th>\n      <th>Date</th>\n      <th>Minimum Temperature</th>\n      <th>Mean Temperature</th>\n      <th>Maximum Temperature</th>\n      <th>Mean Sea Level Pressure</th>\n      <th>Mean Dew Point</th>\n      <th>Total Precipitation</th>\n      <th>Visibility</th>\n      <th>Snow Depth</th>\n      <th>Mean Wind Speed</th>\n      <th>Maximum Sustained Wind Speed</th>\n      <th>Maximum Wind Gust</th>\n    </tr>\n  </thead>\n  <tbody>\n    <tr>\n      <th>18</th>\n      <td>2021-02-16</td>\n      <td>-24.2</td>\n      <td>-8.0</td>\n      <td>10.6</td>\n      <td>NaN</td>\n      <td>NaN</td>\n      <td>0.07</td>\n      <td>NaN</td>\n      <td>NaN</td>\n      <td>NaN</td>\n      <td>NaN</td>\n      <td>NaN</td>\n    </tr>\n  </tbody>\n</table>\n</div>"
     },
     "metadata": {},
     "execution_count": 65
    }
   ],
   "source": [
    "df21[df21['Mean Temperature']==df21['Mean Temperature'].min()]"
   ]
  },
  {
   "cell_type": "code",
   "execution_count": 66,
   "metadata": {},
   "outputs": [
    {
     "output_type": "execute_result",
     "data": {
      "text/plain": [
       "          Date  ...  Maximum Wind Gust\n",
       "386 2020-02-14  ...                NaN\n",
       "\n",
       "[1 rows x 12 columns]"
      ],
      "text/html": "<div>\n<style scoped>\n    .dataframe tbody tr th:only-of-type {\n        vertical-align: middle;\n    }\n\n    .dataframe tbody tr th {\n        vertical-align: top;\n    }\n\n    .dataframe thead th {\n        text-align: right;\n    }\n</style>\n<table border=\"1\" class=\"dataframe\">\n  <thead>\n    <tr style=\"text-align: right;\">\n      <th></th>\n      <th>Date</th>\n      <th>Minimum Temperature</th>\n      <th>Mean Temperature</th>\n      <th>Maximum Temperature</th>\n      <th>Mean Sea Level Pressure</th>\n      <th>Mean Dew Point</th>\n      <th>Total Precipitation</th>\n      <th>Visibility</th>\n      <th>Snow Depth</th>\n      <th>Mean Wind Speed</th>\n      <th>Maximum Sustained Wind Speed</th>\n      <th>Maximum Wind Gust</th>\n    </tr>\n  </thead>\n  <tbody>\n    <tr>\n      <th>386</th>\n      <td>2020-02-14</td>\n      <td>3.9</td>\n      <td>11.7</td>\n      <td>27.3</td>\n      <td>NaN</td>\n      <td>NaN</td>\n      <td>0.0</td>\n      <td>NaN</td>\n      <td>NaN</td>\n      <td>NaN</td>\n      <td>NaN</td>\n      <td>NaN</td>\n    </tr>\n  </tbody>\n</table>\n</div>"
     },
     "metadata": {},
     "execution_count": 66
    }
   ],
   "source": [
    "df20[df20['Mean Temperature']==df20['Mean Temperature'].min()]\n"
   ]
  },
  {
   "cell_type": "code",
   "execution_count": 67,
   "metadata": {},
   "outputs": [
    {
     "output_type": "execute_result",
     "data": {
      "text/plain": [
       "          Date  ...  Maximum Wind Gust\n",
       "733 2019-03-04  ...              19.68\n",
       "\n",
       "[1 rows x 12 columns]"
      ],
      "text/html": "<div>\n<style scoped>\n    .dataframe tbody tr th:only-of-type {\n        vertical-align: middle;\n    }\n\n    .dataframe tbody tr th {\n        vertical-align: top;\n    }\n\n    .dataframe thead th {\n        text-align: right;\n    }\n</style>\n<table border=\"1\" class=\"dataframe\">\n  <thead>\n    <tr style=\"text-align: right;\">\n      <th></th>\n      <th>Date</th>\n      <th>Minimum Temperature</th>\n      <th>Mean Temperature</th>\n      <th>Maximum Temperature</th>\n      <th>Mean Sea Level Pressure</th>\n      <th>Mean Dew Point</th>\n      <th>Total Precipitation</th>\n      <th>Visibility</th>\n      <th>Snow Depth</th>\n      <th>Mean Wind Speed</th>\n      <th>Maximum Sustained Wind Speed</th>\n      <th>Maximum Wind Gust</th>\n    </tr>\n  </thead>\n  <tbody>\n    <tr>\n      <th>733</th>\n      <td>2019-03-04</td>\n      <td>-2.9</td>\n      <td>6.6</td>\n      <td>18.0</td>\n      <td>30.55</td>\n      <td>-7.2</td>\n      <td>0.0</td>\n      <td>10.0</td>\n      <td>NaN</td>\n      <td>5.41</td>\n      <td>11.39</td>\n      <td>19.68</td>\n    </tr>\n  </tbody>\n</table>\n</div>"
     },
     "metadata": {},
     "execution_count": 67
    }
   ],
   "source": [
    "df19[df19['Mean Temperature']==df19['Mean Temperature'].min()]\n"
   ]
  },
  {
   "cell_type": "code",
   "execution_count": 68,
   "metadata": {},
   "outputs": [
    {
     "output_type": "execute_result",
     "data": {
      "text/plain": [
       "           Date  ...  Maximum Wind Gust\n",
       "1160 2018-01-01  ...                NaN\n",
       "\n",
       "[1 rows x 12 columns]"
      ],
      "text/html": "<div>\n<style scoped>\n    .dataframe tbody tr th:only-of-type {\n        vertical-align: middle;\n    }\n\n    .dataframe tbody tr th {\n        vertical-align: top;\n    }\n\n    .dataframe thead th {\n        text-align: right;\n    }\n</style>\n<table border=\"1\" class=\"dataframe\">\n  <thead>\n    <tr style=\"text-align: right;\">\n      <th></th>\n      <th>Date</th>\n      <th>Minimum Temperature</th>\n      <th>Mean Temperature</th>\n      <th>Maximum Temperature</th>\n      <th>Mean Sea Level Pressure</th>\n      <th>Mean Dew Point</th>\n      <th>Total Precipitation</th>\n      <th>Visibility</th>\n      <th>Snow Depth</th>\n      <th>Mean Wind Speed</th>\n      <th>Maximum Sustained Wind Speed</th>\n      <th>Maximum Wind Gust</th>\n    </tr>\n  </thead>\n  <tbody>\n    <tr>\n      <th>1160</th>\n      <td>2018-01-01</td>\n      <td>-10.1</td>\n      <td>-0.8</td>\n      <td>12.2</td>\n      <td>NaN</td>\n      <td>NaN</td>\n      <td>0.0</td>\n      <td>NaN</td>\n      <td>NaN</td>\n      <td>NaN</td>\n      <td>NaN</td>\n      <td>NaN</td>\n    </tr>\n  </tbody>\n</table>\n</div>"
     },
     "metadata": {},
     "execution_count": 68
    }
   ],
   "source": [
    "df18[df18['Mean Temperature']==df18['Mean Temperature'].min()]\n"
   ]
  },
  {
   "cell_type": "code",
   "execution_count": 69,
   "metadata": {},
   "outputs": [
    {
     "output_type": "execute_result",
     "data": {
      "text/plain": [
       "           Date  ...  Maximum Wind Gust\n",
       "1520 2017-01-06  ...                NaN\n",
       "\n",
       "[1 rows x 12 columns]"
      ],
      "text/html": "<div>\n<style scoped>\n    .dataframe tbody tr th:only-of-type {\n        vertical-align: middle;\n    }\n\n    .dataframe tbody tr th {\n        vertical-align: top;\n    }\n\n    .dataframe thead th {\n        text-align: right;\n    }\n</style>\n<table border=\"1\" class=\"dataframe\">\n  <thead>\n    <tr style=\"text-align: right;\">\n      <th></th>\n      <th>Date</th>\n      <th>Minimum Temperature</th>\n      <th>Mean Temperature</th>\n      <th>Maximum Temperature</th>\n      <th>Mean Sea Level Pressure</th>\n      <th>Mean Dew Point</th>\n      <th>Total Precipitation</th>\n      <th>Visibility</th>\n      <th>Snow Depth</th>\n      <th>Mean Wind Speed</th>\n      <th>Maximum Sustained Wind Speed</th>\n      <th>Maximum Wind Gust</th>\n    </tr>\n  </thead>\n  <tbody>\n    <tr>\n      <th>1520</th>\n      <td>2017-01-06</td>\n      <td>-6.7</td>\n      <td>4.8</td>\n      <td>16.9</td>\n      <td>NaN</td>\n      <td>NaN</td>\n      <td>0.06</td>\n      <td>NaN</td>\n      <td>NaN</td>\n      <td>NaN</td>\n      <td>NaN</td>\n      <td>NaN</td>\n    </tr>\n  </tbody>\n</table>\n</div>"
     },
     "metadata": {},
     "execution_count": 69
    }
   ],
   "source": [
    "df17[df17['Mean Temperature']==df17['Mean Temperature'].min()]\n"
   ]
  },
  {
   "cell_type": "code",
   "execution_count": null,
   "metadata": {},
   "outputs": [],
   "source": []
  }
 ]
}