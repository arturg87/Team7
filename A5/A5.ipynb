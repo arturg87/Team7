{
 "metadata": {
  "language_info": {
   "codemirror_mode": {
    "name": "ipython",
    "version": 3
   },
   "file_extension": ".py",
   "mimetype": "text/x-python",
   "name": "python",
   "nbconvert_exporter": "python",
   "pygments_lexer": "ipython3",
   "version": "3.7.0-final"
  },
  "orig_nbformat": 2,
  "kernelspec": {
   "name": "python3",
   "display_name": "Python 3.7.0 64-bit ('3.7.0': pyenv)",
   "metadata": {
    "interpreter": {
     "hash": "9da096c4206982411fa15a9fe1edb1f4ec6034c239429ad4e7ee88d22bab6cbe"
    }
   }
  }
 },
 "nbformat": 4,
 "nbformat_minor": 2,
 "cells": [
  {
   "cell_type": "code",
   "execution_count": 45,
   "metadata": {},
   "outputs": [],
   "source": [
    "import pandas as pd\n",
    "import numpy as np\n",
    "\n",
    "df = pd.read_csv(\"weather.csv\")\n",
    "\n",
    "df = df.replace(\"No data.\", np.nan)\n",
    "\n",
    "cols = [i for i in df.columns if i not in ['Date']]\n",
    "\n",
    "for col in cols:\n",
    "    df[col] = df[col].astype(float)\n",
    "\n",
    "df.Date = pd.to_datetime(df.Date)"
   ]
  },
  {
   "cell_type": "code",
   "execution_count": 46,
   "metadata": {},
   "outputs": [],
   "source": [
    "df21 = df[df.Date.dt.year == 2021]\n",
    "df20 = df[df.Date.dt.year == 2020]\n",
    "df19 = df[df.Date.dt.year == 2019]\n",
    "df18 = df[df.Date.dt.year == 2018]\n",
    "df17 = df[df.Date.dt.year == 2017]"
   ]
  },
  {
   "cell_type": "code",
   "execution_count": null,
   "metadata": {},
   "outputs": [],
   "source": [
    "# Get minimum avgerage mean temp for the given year\n",
    "year = 2021\n",
    "\n",
    "df[df.Date.dt.year==year].groupby(by=[df.Date.dt.month])['Mean Temperature'].mean().reset_index().rename(columns={'Date': 'Month'}).sort_values(by=['Mean Temperature'], ascending=True)"
   ]
  },
  {
   "cell_type": "code",
   "execution_count": null,
   "metadata": {},
   "outputs": [],
   "source": [
    "# Get the min and max temp for the coldest month of the year given the month and year\n",
    "\n",
    "month = 2\n",
    "year = 2021\n",
    "min = df[(df.Date.dt.month == month) & (df.Date.dt.year == year)]['Minimum Temperature'].min()\n",
    "max = df[(df.Date.dt.month == month) & (df.Date.dt.year == year)]['Maximum Temperature'].max()\n",
    "\n",
    "print(\"The coldest month was {} with a Min Temp of {} and a Max Temp of {}\".format(month, min, max))"
   ]
  }
 ]
}
