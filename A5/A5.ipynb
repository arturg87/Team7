{
 "metadata": {
  "language_info": {
   "codemirror_mode": {
    "name": "ipython",
    "version": 3
   },
   "file_extension": ".py",
   "mimetype": "text/x-python",
   "name": "python",
   "nbconvert_exporter": "python",
   "pygments_lexer": "ipython3",
   "version": "3.7.0-final"
  },
  "orig_nbformat": 2,
  "kernelspec": {
   "name": "python3",
   "display_name": "Python 3.7.0 64-bit ('3.7.0': pyenv)",
   "metadata": {
    "interpreter": {
     "hash": "9da096c4206982411fa15a9fe1edb1f4ec6034c239429ad4e7ee88d22bab6cbe"
    }
   }
  }
 },
 "nbformat": 4,
 "nbformat_minor": 2,
 "cells": [
  {
   "cell_type": "code",
   "execution_count": 2,
   "metadata": {},
   "outputs": [],
   "source": [
    "import pandas as pd\n",
    "import numpy as np\n",
    "\n",
    "df = pd.read_csv(\"weather.csv\")\n",
    "\n",
    "df = df.replace(\"No data.\", np.nan)\n",
    "\n",
    "cols = [i for i in df.columns if i not in ['Date']]\n",
    "\n",
    "for col in cols:\n",
    "    df[col] = df[col].astype(float)\n",
    "\n",
    "df.Date = pd.to_datetime(df.Date)"
   ]
  },
  {
   "cell_type": "code",
   "execution_count": 3,
   "metadata": {},
   "outputs": [],
   "source": [
    "df21 = df[df.Date.dt.year == 2021]\n",
    "df20 = df[df.Date.dt.year == 2020]\n",
    "df19 = df[df.Date.dt.year == 2019]\n",
    "df18 = df[df.Date.dt.year == 2018]\n",
    "df17 = df[df.Date.dt.year == 2017]"
   ]
  },
  {
   "source": [
    "# Get minimum avgerage mean temp for the given year\n",
    "year = 2021\n",
    "\n",
    "df[df.Date.dt.year==year].groupby(by=[df.Date.dt.month])['Mean Temperature'].mean().reset_index().rename(columns={'Date': 'Month'}).sort_values(by=['Mean Temperature'], ascending=True)"
   ],
   "cell_type": "code",
   "metadata": {},
   "execution_count": 4,
   "outputs": [
    {
     "output_type": "execute_result",
     "data": {
      "text/plain": [
       "   Month  Mean Temperature\n",
       "1      2         23.300000\n",
       "0      1         34.080645\n",
       "2      3         47.200000"
      ],
      "text/html": "<div>\n<style scoped>\n    .dataframe tbody tr th:only-of-type {\n        vertical-align: middle;\n    }\n\n    .dataframe tbody tr th {\n        vertical-align: top;\n    }\n\n    .dataframe thead th {\n        text-align: right;\n    }\n</style>\n<table border=\"1\" class=\"dataframe\">\n  <thead>\n    <tr style=\"text-align: right;\">\n      <th></th>\n      <th>Month</th>\n      <th>Mean Temperature</th>\n    </tr>\n  </thead>\n  <tbody>\n    <tr>\n      <th>1</th>\n      <td>2</td>\n      <td>23.300000</td>\n    </tr>\n    <tr>\n      <th>0</th>\n      <td>1</td>\n      <td>34.080645</td>\n    </tr>\n    <tr>\n      <th>2</th>\n      <td>3</td>\n      <td>47.200000</td>\n    </tr>\n  </tbody>\n</table>\n</div>"
     },
     "metadata": {},
     "execution_count": 4
    }
   ]
  },
  {
   "cell_type": "code",
   "execution_count": 5,
   "metadata": {},
   "outputs": [
    {
     "output_type": "stream",
     "name": "stdout",
     "text": [
      "The coldest month was 2 with a Min Temp of -24.2 and a Max Temp of 34.5\n"
     ]
    }
   ],
   "source": [
    "# Get the min and max temp for the coldest month of the year given the month and year\n",
    "\n",
    "month = 2\n",
    "year = 2021\n",
    "min = df[(df.Date.dt.month == month) & (df.Date.dt.year == year)]['Minimum Temperature'].min()\n",
    "max = df[(df.Date.dt.month == month) & (df.Date.dt.year == year)]['Minimum Temperature'].max()\n",
    "\n",
    "print(\"The coldest month was {} with a Min Temp of {} and a Max Temp of {}\".format(month, min, max))"
   ]
  }
 ]
}